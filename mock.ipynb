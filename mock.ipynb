{
 "cells": [
  {
   "cell_type": "code",
   "execution_count": 4,
   "id": "7701a6f0",
   "metadata": {},
   "outputs": [
    {
     "name": "stdout",
     "output_type": "stream",
     "text": [
      "Defaulting to user installation because normal site-packages is not writeable\n",
      "Requirement already satisfied: requests in /usr/lib/python3/dist-packages (from -r ./requirements.txt (line 1)) (2.28.1)\n",
      "Collecting dotenv\n",
      "  Downloading dotenv-0.9.9-py2.py3-none-any.whl (1.9 kB)\n",
      "Collecting dataclasses\n",
      "  Downloading dataclasses-0.6-py3-none-any.whl (14 kB)\n",
      "Collecting python-dotenv\n",
      "  Downloading python_dotenv-1.1.1-py3-none-any.whl (20 kB)\n",
      "Installing collected packages: dataclasses, python-dotenv, dotenv\n",
      "\u001b[33m  WARNING: The script dotenv is installed in '/home/mufaro/.local/bin' which is not on PATH.\n",
      "  Consider adding this directory to PATH or, if you prefer to suppress this warning, use --no-warn-script-location.\u001b[0m\u001b[33m\n",
      "\u001b[0mSuccessfully installed dataclasses-0.6 dotenv-0.9.9 python-dotenv-1.1.1\n"
     ]
    }
   ],
   "source": [
    "!pip3 install -r ./requirements.txt"
   ]
  },
  {
   "cell_type": "code",
   "execution_count": 1,
   "id": "d5dc087b",
   "metadata": {},
   "outputs": [],
   "source": [
    "import requests, os\n",
    "from dotenv import dotenv_values\n",
    "from dataclasses import dataclass\n",
    "from IPython.display import Image, display"
   ]
  },
  {
   "cell_type": "code",
   "execution_count": 2,
   "id": "ca2c47d4",
   "metadata": {},
   "outputs": [],
   "source": [
    "@dataclass\n",
    "class Point:\n",
    "    lon: float\n",
    "    lat: float"
   ]
  },
  {
   "cell_type": "code",
   "execution_count": 4,
   "id": "1df14f5d",
   "metadata": {},
   "outputs": [],
   "source": [
    "API_KEY = dotenv_values('.env')['API_KEY']\n",
    "API_ENDPOINT = 'https://graph.mapillary.com/images'"
   ]
  },
  {
   "cell_type": "code",
   "execution_count": 5,
   "id": "c525d22e",
   "metadata": {},
   "outputs": [],
   "source": [
    "DOWNLOAD_FOLDER='images'\n",
    "os.makedirs(DOWNLOAD_FOLDER, exist_ok=True)"
   ]
  },
  {
   "cell_type": "code",
   "execution_count": 6,
   "id": "0a2b3fe6",
   "metadata": {},
   "outputs": [],
   "source": [
    "def query_region(bottom_left, top_right, max_images):\n",
    "    params = {\n",
    "        'access_token': API_KEY,\n",
    "        'bbox': f'{bottom_left.lon},{bottom_left.lat},'+\n",
    "                f'{top_right.lon},{top_right.lat}',\n",
    "        'fields': 'id,computed_geometry,thumb_256_url,ca',\n",
    "        'limit': 20 # max images per request\n",
    "    }\n",
    "    \n",
    "    response = requests.get(API_ENDPOINT, params=params)\n",
    "    response.raise_for_status()\n",
    "    data = response.json()\n",
    "    \n",
    "    output_paths = []\n",
    "    \n",
    "    for i, image in enumerate(data.get('data',[])):\n",
    "        if i >= max_images:\n",
    "            break\n",
    "        \n",
    "        image_id = image['id']\n",
    "        lat = image[\"computed_geometry\"][\"coordinates\"][1]\n",
    "        lon = image[\"computed_geometry\"][\"coordinates\"][0]\n",
    "        heading = image.get(\"ca\", \"N/A\")\n",
    "        thumb_url = image[\"thumb_256_url\"]\n",
    "\n",
    "        # Save thumbnail\n",
    "        img_data = requests.get(thumb_url).content\n",
    "        image_output_path = os.path.join(DOWNLOAD_FOLDER, f\"{image_id}.jpg\")\n",
    "        with open(image_output_path, \"wb\") as f:\n",
    "            f.write(img_data)\n",
    "        output_paths.append(image_output_path)\n",
    "    \n",
    "    return output_paths"
   ]
  },
  {
   "cell_type": "markdown",
   "id": "349fb183",
   "metadata": {},
   "source": [
    "Try to download 1 image only:"
   ]
  },
  {
   "cell_type": "code",
   "execution_count": 7,
   "id": "28d0c1e9",
   "metadata": {},
   "outputs": [
    {
     "name": "stdout",
     "output_type": "stream",
     "text": [
      "['images/3705203162940296.jpg']\n"
     ]
    }
   ],
   "source": [
    "MINPOINT = Point(-122.276527, 37.803705) # bottom left\n",
    "MAXPOINT = Point(-122.273598, 37.806504) # top right\n",
    "\n",
    "downloaded = query_region(MINPOINT, MAXPOINT, 1)\n",
    "print(downloaded)"
   ]
  },
  {
   "cell_type": "markdown",
   "id": "164d9578",
   "metadata": {},
   "source": [
    "Display what we downloaded:"
   ]
  },
  {
   "cell_type": "code",
   "execution_count": 8,
   "id": "bc436dd7",
   "metadata": {},
   "outputs": [
    {
     "data": {
      "image/jpeg": "[encoded data removed]",
      "text/plain": [
       "<IPython.core.display.Image object>"
      ]
     },
     "metadata": {},
     "output_type": "display_data"
    }
   ],
   "source": [
    "display(Image(filename=downloaded[0]))"
   ]
  },
  {
   "cell_type": "code",
   "execution_count": null,
   "id": "57bc37f9",
   "metadata": {},
   "outputs": [],
   "source": []
  }
 ],
 "metadata": {
  "kernelspec": {
   "display_name": "Python 3 (ipykernel)",
   "language": "python",
   "name": "python3"
  },
  "language_info": {
   "codemirror_mode": {
    "name": "ipython",
    "version": 3
   },
   "file_extension": ".py",
   "mimetype": "text/x-python",
   "name": "python",
   "nbconvert_exporter": "python",
   "pygments_lexer": "ipython3",
   "version": "3.11.2"
  }
 },
 "nbformat": 4,
 "nbformat_minor": 5
}
